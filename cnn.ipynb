{
  "nbformat": 4,
  "nbformat_minor": 0,
  "metadata": {
    "colab": {
      "name": "cnn.ipynb",
      "provenance": [],
      "private_outputs": true,
      "authorship_tag": "ABX9TyOx4EXU7q1jEGkeBGTBjtby",
      "include_colab_link": true
    },
    "kernelspec": {
      "name": "python3",
      "display_name": "Python 3"
    },
    "accelerator": "GPU"
  },
  "cells": [
    {
      "cell_type": "markdown",
      "metadata": {
        "id": "view-in-github",
        "colab_type": "text"
      },
      "source": [
        "<a href=\"https://colab.research.google.com/github/Elwing-Chou/ml0930/blob/master/cnn.ipynb\" target=\"_parent\"><img src=\"https://colab.research.google.com/assets/colab-badge.svg\" alt=\"Open In Colab\"/></a>"
      ]
    },
    {
      "cell_type": "code",
      "metadata": {
        "id": "lRQUcwHk72q1"
      },
      "source": [
        "from tensorflow.keras.datasets import cifar10\n",
        "(x_train, y_train), (x_test, y_test) = cifar10.load_data()"
      ],
      "execution_count": null,
      "outputs": []
    },
    {
      "cell_type": "code",
      "metadata": {
        "id": "XiCopI8O9eHu"
      },
      "source": [
        "trans = [\n",
        "    \"airplane\",\n",
        "    \"automobile\",\n",
        "    \"bird\",\n",
        "    \"cat\",\n",
        "    \"deer\",\n",
        "    \"dog\",\n",
        "    \"frog\",\n",
        "    \"horse\",\n",
        "    \"ship\",\n",
        "    \"truck\"\n",
        "]"
      ],
      "execution_count": null,
      "outputs": []
    },
    {
      "cell_type": "code",
      "metadata": {
        "id": "_y5G3eyp90j0"
      },
      "source": [
        "print(x_train.shape)\n",
        "print(y_train.shape)\n",
        "print(x_test.shape)\n",
        "print(y_test.shape)"
      ],
      "execution_count": null,
      "outputs": []
    },
    {
      "cell_type": "code",
      "metadata": {
        "id": "IYwK_d-X-Kxs"
      },
      "source": [
        "y_train"
      ],
      "execution_count": null,
      "outputs": []
    },
    {
      "cell_type": "code",
      "metadata": {
        "id": "B4heZyc19t1U"
      },
      "source": [
        "import random\n",
        "import matplotlib.pyplot as plt\n",
        "\n",
        "idx = random.randint(0, x_train.shape[0]-1)\n",
        "print(\"ans:\", trans[y_train[idx][0]])\n",
        "plt.imshow(x_train[idx])"
      ],
      "execution_count": null,
      "outputs": []
    },
    {
      "cell_type": "code",
      "metadata": {
        "id": "GoIP4yvcBGro"
      },
      "source": [
        "from tensorflow.keras.models import Sequential\n",
        "from tensorflow.keras.layers import Conv2D, MaxPooling2D\n",
        "from tensorflow.keras.layers import Dense, Dropout, Flatten\n",
        "layers = [\n",
        "    # 27(1 filter) * 64 + 64 -> 1792\n",
        "    Conv2D(64, 3, padding=\"same\", activation=\"relu\", input_shape=(32, 32, 3)),\n",
        "    MaxPooling2D(),\n",
        "    # 576(1 filter) * 128 + 128 -> 73856\n",
        "    Conv2D(128, 3, padding=\"same\", activation=\"relu\"),\n",
        "    MaxPooling2D(),\n",
        "    Conv2D(256, 3, padding=\"same\", activation=\"relu\"),\n",
        "    MaxPooling2D(),\n",
        "    Flatten(),\n",
        "    Dense(256, activation=\"relu\"),\n",
        "    Dropout(0.25),\n",
        "    Dense(10, activation=\"softmax\")\n",
        "]\n",
        "model = Sequential(layers)\n",
        "model.summary()"
      ],
      "execution_count": null,
      "outputs": []
    },
    {
      "cell_type": "code",
      "metadata": {
        "id": "KsSxTuFwFlkY"
      },
      "source": [
        "from tensorflow.keras.losses import SparseCategoricalCrossentropy\n",
        "from tensorflow.keras.optimizers import Adam\n",
        "model.compile(loss=SparseCategoricalCrossentropy(),\n",
        "       optimizer=Adam(),\n",
        "       metrics=[\"accuracy\"])"
      ],
      "execution_count": null,
      "outputs": []
    }
  ]
}