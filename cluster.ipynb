{
  "nbformat": 4,
  "nbformat_minor": 0,
  "metadata": {
    "colab": {
      "name": "cluster.ipynb",
      "provenance": [],
      "private_outputs": true,
      "authorship_tag": "ABX9TyOa3ksz3BJnrSez1Rmsircp",
      "include_colab_link": true
    },
    "kernelspec": {
      "name": "python3",
      "display_name": "Python 3"
    }
  },
  "cells": [
    {
      "cell_type": "markdown",
      "metadata": {
        "id": "view-in-github",
        "colab_type": "text"
      },
      "source": [
        "<a href=\"https://colab.research.google.com/github/Elwing-Chou/ml0930/blob/master/cluster.ipynb\" target=\"_parent\"><img src=\"https://colab.research.google.com/assets/colab-badge.svg\" alt=\"Open In Colab\"/></a>"
      ]
    },
    {
      "cell_type": "code",
      "metadata": {
        "id": "nPIaPMQhe8pv"
      },
      "source": [
        "import pandas as pd\n",
        "from sklearn.datasets import load_iris\n",
        "pd.options.display.max_rows = 20\n",
        "iris = load_iris()\n",
        "df = pd.DataFrame(iris[\"data\"], columns=iris[\"feature_names\"])\n",
        "df"
      ],
      "execution_count": null,
      "outputs": []
    },
    {
      "cell_type": "code",
      "metadata": {
        "id": "FvR-35mbZUT7"
      },
      "source": [
        "from sklearn.cluster import KMeans\n",
        "cluster = KMeans(n_clusters=3)\n",
        "cluster.fit(df)"
      ],
      "execution_count": null,
      "outputs": []
    },
    {
      "cell_type": "code",
      "metadata": {
        "id": "MUJPW5u7aRxG"
      },
      "source": [
        "df[\"label\"] = cluster.labels_\n",
        "df"
      ],
      "execution_count": null,
      "outputs": []
    },
    {
      "cell_type": "code",
      "metadata": {
        "id": "BnCuHOJFa8zz"
      },
      "source": [
        "cluster.cluster_centers_"
      ],
      "execution_count": null,
      "outputs": []
    },
    {
      "cell_type": "code",
      "metadata": {
        "id": "gYIkziqVgsG7"
      },
      "source": [
        "from sklearn.metrics import silhouette_score\n",
        "for k in range(2, 10):\n",
        "    test = KMeans(n_clusters=k)\n",
        "    test.fit(iris[\"data\"])\n",
        "    s = silhouette_score(iris[\"data\"], test.labels_)\n",
        "    print(k, \":\", s)"
      ],
      "execution_count": null,
      "outputs": []
    },
    {
      "cell_type": "code",
      "metadata": {
        "id": "uyAphH-XkRpG"
      },
      "source": [
        "import matplotlib.pyplot as plt\n",
        "import seaborn as sns\n",
        "\n",
        "sns.scatterplot(df[\"sepal length (cm)\"],\n",
        "        df[\"petal length (cm)\"],\n",
        "        hue=iris[\"target\"])\n"
      ],
      "execution_count": null,
      "outputs": []
    }
  ]
}