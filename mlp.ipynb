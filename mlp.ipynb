{
  "nbformat": 4,
  "nbformat_minor": 0,
  "metadata": {
    "colab": {
      "name": "mlp.ipynb",
      "provenance": [],
      "private_outputs": true,
      "authorship_tag": "ABX9TyMmAhdpf3L1J17mSvArwm2+",
      "include_colab_link": true
    },
    "kernelspec": {
      "name": "python3",
      "display_name": "Python 3"
    }
  },
  "cells": [
    {
      "cell_type": "markdown",
      "metadata": {
        "id": "view-in-github",
        "colab_type": "text"
      },
      "source": [
        "<a href=\"https://colab.research.google.com/github/Elwing-Chou/ml0930/blob/master/mlp.ipynb\" target=\"_parent\"><img src=\"https://colab.research.google.com/assets/colab-badge.svg\" alt=\"Open In Colab\"/></a>"
      ]
    },
    {
      "cell_type": "code",
      "metadata": {
        "id": "0OJWjZ7KF1hX"
      },
      "source": [
        "from tensorflow.keras.datasets.mnist import load_data\n",
        "# ((訓練圖片, 訓練答案), (測試圖片, 測試答案))\n",
        "(x_train, y_train), (x_test, y_test) = load_data()"
      ],
      "execution_count": null,
      "outputs": []
    },
    {
      "cell_type": "code",
      "metadata": {
        "id": "ETmfM1y0GmdX"
      },
      "source": [
        "print(x_train.shape)\n",
        "print(x_test.shape)"
      ],
      "execution_count": null,
      "outputs": []
    },
    {
      "cell_type": "code",
      "metadata": {
        "id": "66YjKiEpGxmF"
      },
      "source": [
        "# https://matplotlib.org/3.1.0/tutorials/colors/colormaps.html\n",
        "import random\n",
        "import matplotlib.pyplot as plt\n",
        "import pandas as pd\n",
        "idx = random.randint(0, 59999)\n",
        "plt.imshow(x_train[idx], cmap=\"gray\")\n",
        "pd.DataFrame(x_train[idx])"
      ],
      "execution_count": null,
      "outputs": []
    },
    {
      "cell_type": "code",
      "metadata": {
        "id": "pMcH50CNJ5v0"
      },
      "source": [
        "from tensorflow.keras.models import Sequential\n",
        "from tensorflow.keras.layers import Dense\n",
        "layers = [\n",
        "    # 784 * 128 + 128 \n",
        "    Dense(128, activation=\"relu\", input_dim=784),\n",
        "    # 128 * 10 + 10(bias)\n",
        "    Dense(10, activation=\"softmax\")\n",
        "]\n",
        "model = Sequential(layers)\n",
        "model.summary()"
      ],
      "execution_count": null,
      "outputs": []
    }
  ]
}